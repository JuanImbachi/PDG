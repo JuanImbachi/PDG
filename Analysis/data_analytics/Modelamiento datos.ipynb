{
 "cells": [
  {
   "cell_type": "markdown",
   "metadata": {},
   "source": [
    "# Reporte analítica de datos - Proyecto de Grado II"
   ]
  },
  {
   "cell_type": "markdown",
   "metadata": {},
   "source": [
    "# Modelamiento de los datos"
   ]
  },
  {
   "cell_type": "code",
   "execution_count": 1,
   "metadata": {},
   "outputs": [],
   "source": [
    "import pandas as pd\n",
    "import numpy as np\n",
    "from matplotlib import pyplot\n",
    "from statsmodels.tsa.ar_model import AutoReg\n",
    "from sklearn.metrics import mean_squared_error\n",
    "import datetime as datetime"
   ]
  },
  {
   "cell_type": "code",
   "execution_count": 2,
   "metadata": {
    "scrolled": false
   },
   "outputs": [
    {
     "data": {
      "text/html": [
       "<div>\n",
       "<style scoped>\n",
       "    .dataframe tbody tr th:only-of-type {\n",
       "        vertical-align: middle;\n",
       "    }\n",
       "\n",
       "    .dataframe tbody tr th {\n",
       "        vertical-align: top;\n",
       "    }\n",
       "\n",
       "    .dataframe thead th {\n",
       "        text-align: right;\n",
       "    }\n",
       "</style>\n",
       "<table border=\"1\" class=\"dataframe\">\n",
       "  <thead>\n",
       "    <tr style=\"text-align: right;\">\n",
       "      <th></th>\n",
       "      <th>City</th>\n",
       "      <th>Date</th>\n",
       "      <th>Age</th>\n",
       "      <th>Gender</th>\n",
       "      <th>Neighborhood</th>\n",
       "      <th>Commune</th>\n",
       "    </tr>\n",
       "    <tr>\n",
       "      <th>Id</th>\n",
       "      <th></th>\n",
       "      <th></th>\n",
       "      <th></th>\n",
       "      <th></th>\n",
       "      <th></th>\n",
       "      <th></th>\n",
       "    </tr>\n",
       "  </thead>\n",
       "  <tbody>\n",
       "    <tr>\n",
       "      <th>1</th>\n",
       "      <td>Buga</td>\n",
       "      <td>2010-01-14</td>\n",
       "      <td>23.0</td>\n",
       "      <td>F</td>\n",
       "      <td>LA MERCED</td>\n",
       "      <td>4</td>\n",
       "    </tr>\n",
       "    <tr>\n",
       "      <th>2</th>\n",
       "      <td>Buga</td>\n",
       "      <td>2010-01-11</td>\n",
       "      <td>23.0</td>\n",
       "      <td>F</td>\n",
       "      <td>EL CARMELO</td>\n",
       "      <td>6</td>\n",
       "    </tr>\n",
       "    <tr>\n",
       "      <th>3</th>\n",
       "      <td>Buga</td>\n",
       "      <td>2010-01-10</td>\n",
       "      <td>20.0</td>\n",
       "      <td>M</td>\n",
       "      <td>EL CARMELO</td>\n",
       "      <td>6</td>\n",
       "    </tr>\n",
       "    <tr>\n",
       "      <th>4</th>\n",
       "      <td>Buga</td>\n",
       "      <td>2010-01-12</td>\n",
       "      <td>6.0</td>\n",
       "      <td>F</td>\n",
       "      <td>SUCRE</td>\n",
       "      <td>3</td>\n",
       "    </tr>\n",
       "    <tr>\n",
       "      <th>5</th>\n",
       "      <td>Buga</td>\n",
       "      <td>2010-01-07</td>\n",
       "      <td>13.0</td>\n",
       "      <td>M</td>\n",
       "      <td>POPULAR</td>\n",
       "      <td>5</td>\n",
       "    </tr>\n",
       "    <tr>\n",
       "      <th>6</th>\n",
       "      <td>Buga</td>\n",
       "      <td>2010-03-08</td>\n",
       "      <td>20.0</td>\n",
       "      <td>M</td>\n",
       "      <td>DIVINO NINO</td>\n",
       "      <td>3</td>\n",
       "    </tr>\n",
       "    <tr>\n",
       "      <th>7</th>\n",
       "      <td>Buga</td>\n",
       "      <td>2010-03-13</td>\n",
       "      <td>18.0</td>\n",
       "      <td>F</td>\n",
       "      <td>DIVINO NINO</td>\n",
       "      <td>3</td>\n",
       "    </tr>\n",
       "    <tr>\n",
       "      <th>8</th>\n",
       "      <td>Buga</td>\n",
       "      <td>2010-03-07</td>\n",
       "      <td>36.0</td>\n",
       "      <td>M</td>\n",
       "      <td>ALTO BONITO</td>\n",
       "      <td>1</td>\n",
       "    </tr>\n",
       "    <tr>\n",
       "      <th>9</th>\n",
       "      <td>Buga</td>\n",
       "      <td>2010-03-15</td>\n",
       "      <td>40.0</td>\n",
       "      <td>M</td>\n",
       "      <td>EL JARDIN</td>\n",
       "      <td>5</td>\n",
       "    </tr>\n",
       "    <tr>\n",
       "      <th>10</th>\n",
       "      <td>Buga</td>\n",
       "      <td>2010-03-08</td>\n",
       "      <td>25.0</td>\n",
       "      <td>F</td>\n",
       "      <td>VALLE REAL</td>\n",
       "      <td>3</td>\n",
       "    </tr>\n",
       "  </tbody>\n",
       "</table>\n",
       "</div>"
      ],
      "text/plain": [
       "    City       Date   Age Gender Neighborhood  Commune\n",
       "Id                                                    \n",
       "1   Buga 2010-01-14  23.0      F    LA MERCED        4\n",
       "2   Buga 2010-01-11  23.0      F   EL CARMELO        6\n",
       "3   Buga 2010-01-10  20.0      M   EL CARMELO        6\n",
       "4   Buga 2010-01-12   6.0      F        SUCRE        3\n",
       "5   Buga 2010-01-07  13.0      M      POPULAR        5\n",
       "6   Buga 2010-03-08  20.0      M  DIVINO NINO        3\n",
       "7   Buga 2010-03-13  18.0      F  DIVINO NINO        3\n",
       "8   Buga 2010-03-07  36.0      M  ALTO BONITO        1\n",
       "9   Buga 2010-03-15  40.0      M    EL JARDIN        5\n",
       "10  Buga 2010-03-08  25.0      F   VALLE REAL        3"
      ]
     },
     "execution_count": 2,
     "metadata": {},
     "output_type": "execute_result"
    }
   ],
   "source": [
    "data = pd.read_csv('Data.csv')\n",
    "df = pd.DataFrame(data)\n",
    "df[\"Date\"] = pd.to_datetime(df['Date'])\n",
    "df['Age'] = df['Age'].astype(float)\n",
    "df.set_index('Id', inplace=True)\n",
    "df.head(10)"
   ]
  },
  {
   "cell_type": "code",
   "execution_count": 21,
   "metadata": {},
   "outputs": [],
   "source": [
    "def assign_zeros(nb_df) :\n",
    "    day_delta = datetime.timedelta(days=1)\n",
    "    start_date = datetime.date(2010, 1, 1)\n",
    "    end_date = datetime.date(2020, 1, 1)\n",
    "\n",
    "    lista = []\n",
    "\n",
    "    for i in range((end_date - start_date).days):\n",
    "        date = start_date + i*day_delta\n",
    "        date2 = date.strftime('%Y-%m-%d')\n",
    "        try: \n",
    "            lista.append(nb_df.at[date2,'Cases'])\n",
    "        except:  \n",
    "            lista.append(0)\n",
    "            \n",
    "    final_model = pd.DataFrame(columns=('Date', 'Cases'))\n",
    "\n",
    "    for i in range((end_date - start_date).days):\n",
    "        date = start_date + i*day_delta\n",
    "        final_model.loc[len(final_model)]=[date, lista[i]]\n",
    "        \n",
    "    return final_model"
   ]
  },
  {
   "cell_type": "code",
   "execution_count": 4,
   "metadata": {},
   "outputs": [],
   "source": [
    "def calculate_hits(test, predictions) :\n",
    "    hits = 0\n",
    "    for i in range(0, len(predictions)) :\n",
    "        x = test[i]\n",
    "        y = predictions[i]\n",
    "        if(x != 0 and y != 0) :\n",
    "            if(x == y) :\n",
    "                hits += 1\n",
    "    return hits"
   ]
  },
  {
   "cell_type": "markdown",
   "metadata": {},
   "source": [
    "### Técnica de modelado: Autoregresión (AR)"
   ]
  },
  {
   "cell_type": "code",
   "execution_count": 102,
   "metadata": {},
   "outputs": [],
   "source": [
    "def AR(series, nb_name, max_prediciton_size, optime_lags, period_value, flag, plot) :\n",
    "    \n",
    "    if(flag):\n",
    "        fecha_1 = datetime.date(2016, 12, 31)\n",
    "        fecha_2 = datetime.date(2017, 1, 1)\n",
    "    else:\n",
    "        fecha_1 = datetime.date(2015, 12, 31)\n",
    "        fecha_2 = datetime.date(2016, 1, 1)\n",
    "\n",
    "    df_train = series.loc[: fecha_1]\n",
    "    df_test = series.loc[fecha_2: ]\n",
    "\n",
    "    y1 = df_train.Cases.to_numpy()\n",
    "    y2 = df_test.Cases.to_numpy()\n",
    "\n",
    "    # Entrenamiento del modelo\n",
    "    train, test = y1, y2\n",
    "\n",
    "    # train autoregression\n",
    "    window = optime_lags\n",
    "    model = AutoReg(train, lags=optime_lags, seasonal=True, period=period_value)\n",
    "    model_fit = model.fit()\n",
    "    coef = model_fit.params\n",
    "    \n",
    "    # walk forward over time steps in test\n",
    "    history = train[len(train)-window:]\n",
    "    history = [history[i] for i in range(len(history))]\n",
    "    predictions = list()\n",
    "    for t in range(len(test)):\n",
    "        length = len(history)\n",
    "        lag = [history[i] for i in range(length-window,length)]\n",
    "        yhat = coef[0]\n",
    "        for d in range(window):\n",
    "            yhat += coef[d+1] * lag[window-d-1]\n",
    "        obs = test[t]\n",
    "        predictions.append(abs(np.round(float(yhat))))\n",
    "        history.append(obs)\n",
    "    test = test[-max_prediciton_size:]\n",
    "    predictions = predictions[0:max_prediciton_size]\n",
    "    rmse = np.sqrt(mean_squared_error(test, predictions))\n",
    "    real_cases = sum(i for i in test if i != 0) \n",
    "    number_of_predictions = sum(1 for i in predictions if i != 0) \n",
    "    hits = calculate_hits(test, predictions)\n",
    "    if(plot) :\n",
    "        print('Test RMSE: %.3f' % rmse, '- Hits: ', hits, '- Total predictions:', number_of_predictions,\n",
    "          '- Real cases:',real_cases, '- LAGS:', optime_lags, '- Days to predict:', max_prediciton_size)\n",
    "        pyplot.figure(figsize=(25,5))\n",
    "        pyplot.plot(test)\n",
    "        pyplot.plot(predictions, color='red')\n",
    "        pyplot.title(nb_name)  \n",
    "        pyplot.ylabel(\"Número de casos\") \n",
    "        pyplot.xlabel(\"Días a predecir\")\n",
    "        pyplot.show()\n",
    "    \n",
    "    return real_cases, number_of_predictions, rmse, hits\n",
    "\n"
   ]
  },
  {
   "cell_type": "code",
   "execution_count": 281,
   "metadata": {},
   "outputs": [],
   "source": [
    "def evaluate_model(neighborhoods_df, city) :\n",
    "    flag = False\n",
    "    array_lags = []\n",
    "    array_days_to_predict = []\n",
    "    array_rmse = []\n",
    "    array_hits = []\n",
    "    array_real_cases = []\n",
    "    array_number_of_predictions = []\n",
    "    array_neighborhoods = []\n",
    "    array_cities = []\n",
    "    array_period_values = []\n",
    "    values_for_lags = np.arange(200, 600, 50)\n",
    "    values_for_days = np.arange(10, 65, 5)\n",
    "    period_values = np.arange(300, 700, 3)\n",
    "    for neighborhood_name in neighborhoods_df.index :\n",
    "        if city == 'Buga' :\n",
    "            flag = True\n",
    "            nb_df = dfBuga[dfBuga.Neighborhood == neighborhood_name]\n",
    "        elif city == 'Giron' :\n",
    "            nb_df = dfGiron[dfGiron.Neighborhood == neighborhood_name]\n",
    "        else :\n",
    "            nb_df = dfYopal[dfYopal.Neighborhood == neighborhood_name]\n",
    "        nb_df = pd.DataFrame(nb_df['Date'].value_counts().sort_index())\n",
    "        nb_df.columns = ['Cases']\n",
    "        nb_df.index.name = 'Date'\n",
    "        df_zeros = assign_zeros(nb_df)\n",
    "        df_zeros.set_index('Date',inplace=True) \n",
    "\n",
    "        for lags in values_for_lags :\n",
    "            for days_to_predict in values_for_days :\n",
    "                for period_value in period_values:\n",
    "                    real_cases, number_of_predictions, rmse, hits = AR(df_zeros, neighborhood_name, days_to_predict, period_value, lags, flag, False)\n",
    "                    array_lags.append(lags)\n",
    "                    array_days_to_predict.append(days_to_predict)\n",
    "                    array_rmse.append(rmse)\n",
    "                    array_real_cases.append(real_cases)\n",
    "                    array_number_of_predictions.append(number_of_predictions)\n",
    "                    array_neighborhoods.append(neighborhood_name)\n",
    "                    array_cities.append(city)\n",
    "                    array_hits.append(hits)\n",
    "                    array_period_values.append(period_value)\n",
    "   \n",
    "    data = {'City': array_cities, 'Neighborhood': array_neighborhoods,\n",
    "            'Real Cases': array_real_cases, 'Number of predictions': array_number_of_predictions,\n",
    "            'Lags': array_lags, 'Days to predict': array_days_to_predict, 'Period Value': array_period_values,'RMSE': array_rmse, 'Hits': array_hits}\n",
    "    \n",
    "    df_data = pd.DataFrame(data=data)\n",
    "    return df_data"
   ]
  },
  {
   "cell_type": "markdown",
   "metadata": {},
   "source": [
    "## ENTRENAMIENTO"
   ]
  },
  {
   "cell_type": "markdown",
   "metadata": {},
   "source": [
    "### BUGA"
   ]
  },
  {
   "cell_type": "code",
   "execution_count": 7,
   "metadata": {},
   "outputs": [],
   "source": [
    "dfBuga = df[df.City == 'Buga']"
   ]
  },
  {
   "cell_type": "code",
   "execution_count": 8,
   "metadata": {
    "scrolled": false
   },
   "outputs": [],
   "source": [
    "neighborhoods = dfBuga['Neighborhood'].value_counts()\n",
    "neighborhoods = neighborhoods.to_frame(name='Cases')\n",
    "neighborhoods = neighborhoods[neighborhoods.Cases >= 177]"
   ]
  },
  {
   "cell_type": "code",
   "execution_count": 9,
   "metadata": {
    "scrolled": true
   },
   "outputs": [
    {
     "name": "stderr",
     "output_type": "stream",
     "text": [
      "F:\\icesi\\Anaconda3\\lib\\site-packages\\statsmodels\\tsa\\ar_model.py:252: FutureWarning: The parameter names will change after 0.12 is released. Set old_names to False to use the new names now. Set old_names to True to use the old names. \n",
      "  FutureWarning,\n",
      "F:\\icesi\\Anaconda3\\lib\\site-packages\\statsmodels\\tsa\\ar_model.py:252: FutureWarning: The parameter names will change after 0.12 is released. Set old_names to False to use the new names now. Set old_names to True to use the old names. \n",
      "  FutureWarning,\n",
      "F:\\icesi\\Anaconda3\\lib\\site-packages\\statsmodels\\tsa\\ar_model.py:252: FutureWarning: The parameter names will change after 0.12 is released. Set old_names to False to use the new names now. Set old_names to True to use the old names. \n",
      "  FutureWarning,\n",
      "F:\\icesi\\Anaconda3\\lib\\site-packages\\statsmodels\\tsa\\ar_model.py:252: FutureWarning: The parameter names will change after 0.12 is released. Set old_names to False to use the new names now. Set old_names to True to use the old names. \n",
      "  FutureWarning,\n",
      "F:\\icesi\\Anaconda3\\lib\\site-packages\\statsmodels\\tsa\\ar_model.py:252: FutureWarning: The parameter names will change after 0.12 is released. Set old_names to False to use the new names now. Set old_names to True to use the old names. \n",
      "  FutureWarning,\n",
      "F:\\icesi\\Anaconda3\\lib\\site-packages\\statsmodels\\tsa\\ar_model.py:252: FutureWarning: The parameter names will change after 0.12 is released. Set old_names to False to use the new names now. Set old_names to True to use the old names. \n",
      "  FutureWarning,\n",
      "F:\\icesi\\Anaconda3\\lib\\site-packages\\statsmodels\\tsa\\ar_model.py:252: FutureWarning: The parameter names will change after 0.12 is released. Set old_names to False to use the new names now. Set old_names to True to use the old names. \n",
      "  FutureWarning,\n",
      "F:\\icesi\\Anaconda3\\lib\\site-packages\\statsmodels\\tsa\\ar_model.py:252: FutureWarning: The parameter names will change after 0.12 is released. Set old_names to False to use the new names now. Set old_names to True to use the old names. \n",
      "  FutureWarning,\n"
     ]
    },
    {
     "ename": "KeyboardInterrupt",
     "evalue": "",
     "output_type": "error",
     "traceback": [
      "\u001b[1;31m---------------------------------------------------------------------------\u001b[0m",
      "\u001b[1;31mKeyboardInterrupt\u001b[0m                         Traceback (most recent call last)",
      "\u001b[1;32m<ipython-input-9-ae0679c6df67>\u001b[0m in \u001b[0;36m<module>\u001b[1;34m\u001b[0m\n\u001b[1;32m----> 1\u001b[1;33m \u001b[0mevaluate_model\u001b[0m\u001b[1;33m(\u001b[0m\u001b[0mneighborhoods\u001b[0m\u001b[1;33m,\u001b[0m \u001b[1;34m'Buga'\u001b[0m\u001b[1;33m)\u001b[0m\u001b[1;33m.\u001b[0m\u001b[0mto_csv\u001b[0m\u001b[1;33m(\u001b[0m\u001b[1;34m'buga_models.csv'\u001b[0m\u001b[1;33m,\u001b[0m \u001b[0mindex\u001b[0m\u001b[1;33m=\u001b[0m\u001b[1;32mFalse\u001b[0m\u001b[1;33m)\u001b[0m\u001b[1;33m\u001b[0m\u001b[1;33m\u001b[0m\u001b[0m\n\u001b[0m",
      "\u001b[1;32m<ipython-input-6-7e5733897568>\u001b[0m in \u001b[0;36mevaluate_model\u001b[1;34m(neighborhoods_df, city)\u001b[0m\n\u001b[0;32m     27\u001b[0m         \u001b[1;32mfor\u001b[0m \u001b[0mlags\u001b[0m \u001b[1;32min\u001b[0m \u001b[0mvalues_for_lags\u001b[0m \u001b[1;33m:\u001b[0m\u001b[1;33m\u001b[0m\u001b[1;33m\u001b[0m\u001b[0m\n\u001b[0;32m     28\u001b[0m             \u001b[1;32mfor\u001b[0m \u001b[0mdays_to_predict\u001b[0m \u001b[1;32min\u001b[0m \u001b[0mvalues_for_days\u001b[0m \u001b[1;33m:\u001b[0m\u001b[1;33m\u001b[0m\u001b[1;33m\u001b[0m\u001b[0m\n\u001b[1;32m---> 29\u001b[1;33m                 \u001b[0mreal_cases\u001b[0m\u001b[1;33m,\u001b[0m \u001b[0mnumber_of_predictions\u001b[0m\u001b[1;33m,\u001b[0m \u001b[0mrmse\u001b[0m\u001b[1;33m,\u001b[0m \u001b[0mhits\u001b[0m \u001b[1;33m=\u001b[0m \u001b[0mAR\u001b[0m\u001b[1;33m(\u001b[0m\u001b[0mdf_zeros\u001b[0m\u001b[1;33m,\u001b[0m \u001b[0mneighborhood_name\u001b[0m\u001b[1;33m,\u001b[0m \u001b[0mdays_to_predict\u001b[0m\u001b[1;33m,\u001b[0m \u001b[0mlags\u001b[0m\u001b[1;33m,\u001b[0m \u001b[0mflag\u001b[0m\u001b[1;33m,\u001b[0m \u001b[1;32mFalse\u001b[0m\u001b[1;33m)\u001b[0m\u001b[1;33m\u001b[0m\u001b[1;33m\u001b[0m\u001b[0m\n\u001b[0m\u001b[0;32m     30\u001b[0m                 \u001b[0marray_lags\u001b[0m\u001b[1;33m.\u001b[0m\u001b[0mappend\u001b[0m\u001b[1;33m(\u001b[0m\u001b[0mlags\u001b[0m\u001b[1;33m)\u001b[0m\u001b[1;33m\u001b[0m\u001b[1;33m\u001b[0m\u001b[0m\n\u001b[0;32m     31\u001b[0m                 \u001b[0marray_days_to_predict\u001b[0m\u001b[1;33m.\u001b[0m\u001b[0mappend\u001b[0m\u001b[1;33m(\u001b[0m\u001b[0mdays_to_predict\u001b[0m\u001b[1;33m)\u001b[0m\u001b[1;33m\u001b[0m\u001b[1;33m\u001b[0m\u001b[0m\n",
      "\u001b[1;32m<ipython-input-5-c684d92614d4>\u001b[0m in \u001b[0;36mAR\u001b[1;34m(series, nb_name, max_prediciton_size, optime_lags, flag, plot)\u001b[0m\n\u001b[0;32m     20\u001b[0m     \u001b[0mwindow\u001b[0m \u001b[1;33m=\u001b[0m \u001b[0moptime_lags\u001b[0m\u001b[1;33m\u001b[0m\u001b[1;33m\u001b[0m\u001b[0m\n\u001b[0;32m     21\u001b[0m     \u001b[0mmodel\u001b[0m \u001b[1;33m=\u001b[0m \u001b[0mAutoReg\u001b[0m\u001b[1;33m(\u001b[0m\u001b[0mtrain\u001b[0m\u001b[1;33m,\u001b[0m \u001b[0mlags\u001b[0m\u001b[1;33m=\u001b[0m\u001b[0moptime_lags\u001b[0m\u001b[1;33m,\u001b[0m \u001b[0mseasonal\u001b[0m\u001b[1;33m=\u001b[0m\u001b[1;32mTrue\u001b[0m\u001b[1;33m,\u001b[0m \u001b[0mperiod\u001b[0m\u001b[1;33m=\u001b[0m\u001b[1;36m887\u001b[0m\u001b[1;33m)\u001b[0m\u001b[1;33m\u001b[0m\u001b[1;33m\u001b[0m\u001b[0m\n\u001b[1;32m---> 22\u001b[1;33m     \u001b[0mmodel_fit\u001b[0m \u001b[1;33m=\u001b[0m \u001b[0mmodel\u001b[0m\u001b[1;33m.\u001b[0m\u001b[0mfit\u001b[0m\u001b[1;33m(\u001b[0m\u001b[1;33m)\u001b[0m\u001b[1;33m\u001b[0m\u001b[1;33m\u001b[0m\u001b[0m\n\u001b[0m\u001b[0;32m     23\u001b[0m     \u001b[0mcoef\u001b[0m \u001b[1;33m=\u001b[0m \u001b[0mmodel_fit\u001b[0m\u001b[1;33m.\u001b[0m\u001b[0mparams\u001b[0m\u001b[1;33m\u001b[0m\u001b[1;33m\u001b[0m\u001b[0m\n\u001b[0;32m     24\u001b[0m \u001b[1;33m\u001b[0m\u001b[0m\n",
      "\u001b[1;32mF:\\icesi\\Anaconda3\\lib\\site-packages\\statsmodels\\tsa\\ar_model.py\u001b[0m in \u001b[0;36mfit\u001b[1;34m(self, cov_type, cov_kwds, use_t)\u001b[0m\n\u001b[0;32m    427\u001b[0m         \u001b[0mols_mod\u001b[0m \u001b[1;33m=\u001b[0m \u001b[0mOLS\u001b[0m\u001b[1;33m(\u001b[0m\u001b[0mself\u001b[0m\u001b[1;33m.\u001b[0m\u001b[0m_y\u001b[0m\u001b[1;33m,\u001b[0m \u001b[0mself\u001b[0m\u001b[1;33m.\u001b[0m\u001b[0m_x\u001b[0m\u001b[1;33m)\u001b[0m\u001b[1;33m\u001b[0m\u001b[1;33m\u001b[0m\u001b[0m\n\u001b[0;32m    428\u001b[0m         ols_res = ols_mod.fit(\n\u001b[1;32m--> 429\u001b[1;33m             \u001b[0mcov_type\u001b[0m\u001b[1;33m=\u001b[0m\u001b[0mcov_type\u001b[0m\u001b[1;33m,\u001b[0m \u001b[0mcov_kwds\u001b[0m\u001b[1;33m=\u001b[0m\u001b[0mcov_kwds\u001b[0m\u001b[1;33m,\u001b[0m \u001b[0muse_t\u001b[0m\u001b[1;33m=\u001b[0m\u001b[0muse_t\u001b[0m\u001b[1;33m\u001b[0m\u001b[1;33m\u001b[0m\u001b[0m\n\u001b[0m\u001b[0;32m    430\u001b[0m         )\n\u001b[0;32m    431\u001b[0m         \u001b[0mcov_params\u001b[0m \u001b[1;33m=\u001b[0m \u001b[0mols_res\u001b[0m\u001b[1;33m.\u001b[0m\u001b[0mcov_params\u001b[0m\u001b[1;33m(\u001b[0m\u001b[1;33m)\u001b[0m\u001b[1;33m\u001b[0m\u001b[1;33m\u001b[0m\u001b[0m\n",
      "\u001b[1;32mF:\\icesi\\Anaconda3\\lib\\site-packages\\statsmodels\\regression\\linear_model.py\u001b[0m in \u001b[0;36mfit\u001b[1;34m(self, method, cov_type, cov_kwds, use_t, **kwargs)\u001b[0m\n\u001b[0;32m    303\u001b[0m                     hasattr(self, 'rank')):\n\u001b[0;32m    304\u001b[0m \u001b[1;33m\u001b[0m\u001b[0m\n\u001b[1;32m--> 305\u001b[1;33m                 \u001b[0mself\u001b[0m\u001b[1;33m.\u001b[0m\u001b[0mpinv_wexog\u001b[0m\u001b[1;33m,\u001b[0m \u001b[0msingular_values\u001b[0m \u001b[1;33m=\u001b[0m \u001b[0mpinv_extended\u001b[0m\u001b[1;33m(\u001b[0m\u001b[0mself\u001b[0m\u001b[1;33m.\u001b[0m\u001b[0mwexog\u001b[0m\u001b[1;33m)\u001b[0m\u001b[1;33m\u001b[0m\u001b[1;33m\u001b[0m\u001b[0m\n\u001b[0m\u001b[0;32m    306\u001b[0m                 self.normalized_cov_params = np.dot(\n\u001b[0;32m    307\u001b[0m                     self.pinv_wexog, np.transpose(self.pinv_wexog))\n",
      "\u001b[1;32mF:\\icesi\\Anaconda3\\lib\\site-packages\\statsmodels\\tools\\tools.py\u001b[0m in \u001b[0;36mpinv_extended\u001b[1;34m(x, rcond)\u001b[0m\n\u001b[0;32m    405\u001b[0m     \u001b[0mx\u001b[0m \u001b[1;33m=\u001b[0m \u001b[0mnp\u001b[0m\u001b[1;33m.\u001b[0m\u001b[0masarray\u001b[0m\u001b[1;33m(\u001b[0m\u001b[0mx\u001b[0m\u001b[1;33m)\u001b[0m\u001b[1;33m\u001b[0m\u001b[1;33m\u001b[0m\u001b[0m\n\u001b[0;32m    406\u001b[0m     \u001b[0mx\u001b[0m \u001b[1;33m=\u001b[0m \u001b[0mx\u001b[0m\u001b[1;33m.\u001b[0m\u001b[0mconjugate\u001b[0m\u001b[1;33m(\u001b[0m\u001b[1;33m)\u001b[0m\u001b[1;33m\u001b[0m\u001b[1;33m\u001b[0m\u001b[0m\n\u001b[1;32m--> 407\u001b[1;33m     \u001b[0mu\u001b[0m\u001b[1;33m,\u001b[0m \u001b[0ms\u001b[0m\u001b[1;33m,\u001b[0m \u001b[0mvt\u001b[0m \u001b[1;33m=\u001b[0m \u001b[0mnp\u001b[0m\u001b[1;33m.\u001b[0m\u001b[0mlinalg\u001b[0m\u001b[1;33m.\u001b[0m\u001b[0msvd\u001b[0m\u001b[1;33m(\u001b[0m\u001b[0mx\u001b[0m\u001b[1;33m,\u001b[0m \u001b[1;32mFalse\u001b[0m\u001b[1;33m)\u001b[0m\u001b[1;33m\u001b[0m\u001b[1;33m\u001b[0m\u001b[0m\n\u001b[0m\u001b[0;32m    408\u001b[0m     \u001b[0ms_orig\u001b[0m \u001b[1;33m=\u001b[0m \u001b[0mnp\u001b[0m\u001b[1;33m.\u001b[0m\u001b[0mcopy\u001b[0m\u001b[1;33m(\u001b[0m\u001b[0ms\u001b[0m\u001b[1;33m)\u001b[0m\u001b[1;33m\u001b[0m\u001b[1;33m\u001b[0m\u001b[0m\n\u001b[0;32m    409\u001b[0m     \u001b[0mm\u001b[0m \u001b[1;33m=\u001b[0m \u001b[0mu\u001b[0m\u001b[1;33m.\u001b[0m\u001b[0mshape\u001b[0m\u001b[1;33m[\u001b[0m\u001b[1;36m0\u001b[0m\u001b[1;33m]\u001b[0m\u001b[1;33m\u001b[0m\u001b[1;33m\u001b[0m\u001b[0m\n",
      "\u001b[1;32m<__array_function__ internals>\u001b[0m in \u001b[0;36msvd\u001b[1;34m(*args, **kwargs)\u001b[0m\n",
      "\u001b[1;32mF:\\icesi\\Anaconda3\\lib\\site-packages\\numpy\\linalg\\linalg.py\u001b[0m in \u001b[0;36msvd\u001b[1;34m(a, full_matrices, compute_uv, hermitian)\u001b[0m\n\u001b[0;32m   1659\u001b[0m \u001b[1;33m\u001b[0m\u001b[0m\n\u001b[0;32m   1660\u001b[0m         \u001b[0msignature\u001b[0m \u001b[1;33m=\u001b[0m \u001b[1;34m'D->DdD'\u001b[0m \u001b[1;32mif\u001b[0m \u001b[0misComplexType\u001b[0m\u001b[1;33m(\u001b[0m\u001b[0mt\u001b[0m\u001b[1;33m)\u001b[0m \u001b[1;32melse\u001b[0m \u001b[1;34m'd->ddd'\u001b[0m\u001b[1;33m\u001b[0m\u001b[1;33m\u001b[0m\u001b[0m\n\u001b[1;32m-> 1661\u001b[1;33m         \u001b[0mu\u001b[0m\u001b[1;33m,\u001b[0m \u001b[0ms\u001b[0m\u001b[1;33m,\u001b[0m \u001b[0mvh\u001b[0m \u001b[1;33m=\u001b[0m \u001b[0mgufunc\u001b[0m\u001b[1;33m(\u001b[0m\u001b[0ma\u001b[0m\u001b[1;33m,\u001b[0m \u001b[0msignature\u001b[0m\u001b[1;33m=\u001b[0m\u001b[0msignature\u001b[0m\u001b[1;33m,\u001b[0m \u001b[0mextobj\u001b[0m\u001b[1;33m=\u001b[0m\u001b[0mextobj\u001b[0m\u001b[1;33m)\u001b[0m\u001b[1;33m\u001b[0m\u001b[1;33m\u001b[0m\u001b[0m\n\u001b[0m\u001b[0;32m   1662\u001b[0m         \u001b[0mu\u001b[0m \u001b[1;33m=\u001b[0m \u001b[0mu\u001b[0m\u001b[1;33m.\u001b[0m\u001b[0mastype\u001b[0m\u001b[1;33m(\u001b[0m\u001b[0mresult_t\u001b[0m\u001b[1;33m,\u001b[0m \u001b[0mcopy\u001b[0m\u001b[1;33m=\u001b[0m\u001b[1;32mFalse\u001b[0m\u001b[1;33m)\u001b[0m\u001b[1;33m\u001b[0m\u001b[1;33m\u001b[0m\u001b[0m\n\u001b[0;32m   1663\u001b[0m         \u001b[0ms\u001b[0m \u001b[1;33m=\u001b[0m \u001b[0ms\u001b[0m\u001b[1;33m.\u001b[0m\u001b[0mastype\u001b[0m\u001b[1;33m(\u001b[0m\u001b[0m_realType\u001b[0m\u001b[1;33m(\u001b[0m\u001b[0mresult_t\u001b[0m\u001b[1;33m)\u001b[0m\u001b[1;33m,\u001b[0m \u001b[0mcopy\u001b[0m\u001b[1;33m=\u001b[0m\u001b[1;32mFalse\u001b[0m\u001b[1;33m)\u001b[0m\u001b[1;33m\u001b[0m\u001b[1;33m\u001b[0m\u001b[0m\n",
      "\u001b[1;31mKeyboardInterrupt\u001b[0m: "
     ]
    }
   ],
   "source": [
    "evaluate_model(neighborhoods, 'Buga').to_csv('buga_models.csv', index=False)"
   ]
  },
  {
   "cell_type": "markdown",
   "metadata": {},
   "source": [
    "### GIRÓN"
   ]
  },
  {
   "cell_type": "code",
   "execution_count": 10,
   "metadata": {},
   "outputs": [],
   "source": [
    "dfGiron = df[df.City == 'Girón']"
   ]
  },
  {
   "cell_type": "code",
   "execution_count": 11,
   "metadata": {
    "scrolled": true
   },
   "outputs": [],
   "source": [
    "neighborhoods = dfGiron['Neighborhood'].value_counts()\n",
    "neighborhoods = neighborhoods.to_frame(name='Cases')\n",
    "neighborhoods = neighborhoods[neighborhoods.Cases >= 204]"
   ]
  },
  {
   "cell_type": "code",
   "execution_count": null,
   "metadata": {},
   "outputs": [],
   "source": [
    "evaluate_model(neighborhoods, 'Giron').to_csv('giron_models.csv', index=False)"
   ]
  },
  {
   "cell_type": "markdown",
   "metadata": {},
   "source": [
    "### YOPAL"
   ]
  },
  {
   "cell_type": "code",
   "execution_count": 12,
   "metadata": {},
   "outputs": [],
   "source": [
    "dfYopal = df[df.City == 'Yopal']"
   ]
  },
  {
   "cell_type": "code",
   "execution_count": 13,
   "metadata": {
    "scrolled": false
   },
   "outputs": [],
   "source": [
    "neighborhoods = dfYopal['Neighborhood'].value_counts()\n",
    "neighborhoods = neighborhoods.to_frame(name='Cases')\n",
    "neighborhoods = neighborhoods[neighborhoods.Cases >= 193]"
   ]
  },
  {
   "cell_type": "code",
   "execution_count": null,
   "metadata": {},
   "outputs": [],
   "source": [
    "evaluate_model(neighborhoods, 'Yopal').to_csv('yopal_models.csv', index=False)"
   ]
  },
  {
   "cell_type": "markdown",
   "metadata": {},
   "source": [
    "## SELECCIÓN DEL MEJOR MODELO"
   ]
  },
  {
   "cell_type": "code",
   "execution_count": 14,
   "metadata": {},
   "outputs": [],
   "source": [
    "def get_predictions(city, neigborhood, days_to_predict, lags) :\n",
    "    df_neighborhood = None\n",
    "    flag = False\n",
    "    if(city == 'Buga') :\n",
    "        df_neighborhood = dfBuga[dfBuga.Neighborhood == neigborhood]\n",
    "        flag = True\n",
    "    elif(city == 'Yopal') :\n",
    "        df_neighborhood = dfYopal[dfBuga.Neighborhood == neigborhood]\n",
    "    else :\n",
    "        df_neighborhood = dfGiron[dfBuga.Neighborhood == neigborhood]\n",
    "        \n",
    "    df_neighborhood = pd.DataFrame(df_neighborhood['Date'].value_counts().sort_index())\n",
    "    df_neighborhood.columns = ['Cases']\n",
    "    df_neighborhood.index.name = 'Date'\n",
    "    df_neighborhood = assign_zeros(df_neighborhood)\n",
    "    df_neighborhood.set_index('Date',inplace=True)\n",
    "    AR(df_neighborhood, neigborhood, days_to_predict, lags, flag, True)"
   ]
  },
  {
   "cell_type": "code",
   "execution_count": 81,
   "metadata": {},
   "outputs": [],
   "source": [
    "df_neighborhood = dfBuga[dfBuga.Neighborhood == 'FUENMAYOR']\n",
    "\n",
    "df_neighborhood = pd.DataFrame(df_neighborhood['Date'].value_counts().sort_index())\n",
    "df_neighborhood.columns = ['Cases']\n",
    "df_neighborhood.index.name = 'Date'\n",
    "df_neighborhood = assign_zeros(df_neighborhood)\n"
   ]
  },
  {
   "cell_type": "code",
   "execution_count": 83,
   "metadata": {},
   "outputs": [],
   "source": [
    "df_neighborhood.set_index('Date',inplace=True) \n"
   ]
  },
  {
   "cell_type": "code",
   "execution_count": 280,
   "metadata": {},
   "outputs": [
    {
     "name": "stderr",
     "output_type": "stream",
     "text": [
      "F:\\icesi\\Anaconda3\\lib\\site-packages\\statsmodels\\tsa\\ar_model.py:252: FutureWarning: The parameter names will change after 0.12 is released. Set old_names to False to use the new names now. Set old_names to True to use the old names. \n",
      "  FutureWarning,\n"
     ]
    },
    {
     "name": "stdout",
     "output_type": "stream",
     "text": [
      "Test RMSE: 1.719 - Hits:  2 - Total predictions: 54 - Real cases: 15 - LAGS: 600 - Days to predict: 65\n"
     ]
    },
    {
     "data": {
      "image/png": "[encoded data removed]",
      "text/plain": [
       "<Figure size 1800x360 with 1 Axes>"
      ]
     },
     "metadata": {
      "needs_background": "light"
     },
     "output_type": "display_data"
    },
    {
     "data": {
      "text/plain": [
       "(15, 54, 1.718675697694639, 2)"
      ]
     },
     "execution_count": 280,
     "metadata": {},
     "output_type": "execute_result"
    }
   ],
   "source": [
    "\n",
    "AR_copy(df_neighborhood, 'FUENMAYOR', 65, 600, True, True, 700)"
   ]
  },
  {
   "cell_type": "code",
   "execution_count": null,
   "metadata": {},
   "outputs": [],
   "source": [
    "get_predictions('Buga', 'FUENMAYOR', 15, 1200)"
   ]
  },
  {
   "cell_type": "markdown",
   "metadata": {},
   "source": [
    "### BUGA"
   ]
  },
  {
   "cell_type": "code",
   "execution_count": null,
   "metadata": {},
   "outputs": [],
   "source": [
    "buga_models = pd.read_csv('models/buga_models.csv', index_col= 0)\n",
    "df_buga_models = pd.DataFrame(buga_models)\n",
    "pd.set_option('display.max_rows', None)"
   ]
  },
  {
   "cell_type": "code",
   "execution_count": null,
   "metadata": {
    "scrolled": true
   },
   "outputs": [],
   "source": [
    "df_buga_models = df_buga_models[df_buga_models.RMSE <= 0.30]\n",
    "df_buga_models"
   ]
  },
  {
   "cell_type": "code",
   "execution_count": null,
   "metadata": {
    "scrolled": true
   },
   "outputs": [],
   "source": [
    "pd.set_option('display.max_rows', None)\n",
    "df_buga_models.sort_values(by=['Lags', 'Days to predict', 'Hits'], ascending=False)"
   ]
  },
  {
   "cell_type": "markdown",
   "metadata": {},
   "source": [
    "El mejor modelo para Buga es Lags=750, Days to predict=850"
   ]
  },
  {
   "cell_type": "markdown",
   "metadata": {},
   "source": [
    "#### BARRIO FUENMAYOR"
   ]
  },
  {
   "cell_type": "code",
   "execution_count": null,
   "metadata": {},
   "outputs": [],
   "source": [
    "get_predictions('Buga', 'FUENMAYOR', 30, 15)"
   ]
  },
  {
   "cell_type": "code",
   "execution_count": null,
   "metadata": {},
   "outputs": [],
   "source": [
    "get_predictions('Buga', 'FUENMAYOR', 15, 700)"
   ]
  },
  {
   "cell_type": "code",
   "execution_count": null,
   "metadata": {},
   "outputs": [],
   "source": [
    "get_predictions('Buga', 'FUENMAYOR', 8, 1000)"
   ]
  },
  {
   "cell_type": "markdown",
   "metadata": {},
   "source": [
    "#### BARRIO SANTA BÁRBARA"
   ]
  },
  {
   "cell_type": "code",
   "execution_count": null,
   "metadata": {},
   "outputs": [],
   "source": [
    "get_predictions('Buga', 'SANTA BARBARA', 850, 700)"
   ]
  },
  {
   "cell_type": "markdown",
   "metadata": {},
   "source": [
    "#### BARRIO LA HONDA"
   ]
  },
  {
   "cell_type": "code",
   "execution_count": null,
   "metadata": {},
   "outputs": [],
   "source": [
    "get_predictions('Buga', 'LA HONDA', 850, 700)"
   ]
  },
  {
   "cell_type": "markdown",
   "metadata": {},
   "source": [
    "#### BARRIO BALBOA"
   ]
  },
  {
   "cell_type": "code",
   "execution_count": null,
   "metadata": {},
   "outputs": [],
   "source": [
    "get_predictions('Buga', 'BALBOA', 850, 700)"
   ]
  },
  {
   "cell_type": "markdown",
   "metadata": {},
   "source": [
    "### YOPAL"
   ]
  },
  {
   "cell_type": "code",
   "execution_count": null,
   "metadata": {},
   "outputs": [],
   "source": [
    "yopal_models = pd.read_csv('models/yopal_models.csv', index_col= 0)\n",
    "df_yopal_models = pd.DataFrame(yopal_models)"
   ]
  },
  {
   "cell_type": "code",
   "execution_count": null,
   "metadata": {},
   "outputs": [],
   "source": [
    "df_yopal_models.sort_values(by=['Lags', 'Days to predict', 'Hits'], ascending=False)"
   ]
  },
  {
   "cell_type": "markdown",
   "metadata": {},
   "source": [
    "### GIRÓN"
   ]
  },
  {
   "cell_type": "code",
   "execution_count": null,
   "metadata": {},
   "outputs": [],
   "source": [
    "giron_models = pd.read_csv('models/giron_models.csv', index_col= 0)\n",
    "df_giron_models = pd.DataFrame(giron_models)"
   ]
  },
  {
   "cell_type": "code",
   "execution_count": null,
   "metadata": {},
   "outputs": [],
   "source": [
    "df_giron_models.sort_values(by=['Lags', 'Days to predict', 'Hits'], ascending=False)"
   ]
  }
 ],
 "metadata": {
  "kernelspec": {
   "display_name": "Python 3",
   "language": "python",
   "name": "python3"
  },
  "language_info": {
   "codemirror_mode": {
    "name": "ipython",
    "version": 3
   },
   "file_extension": ".py",
   "mimetype": "text/x-python",
   "name": "python",
   "nbconvert_exporter": "python",
   "pygments_lexer": "ipython3",
   "version": "3.7.3"
  }
 },
 "nbformat": 4,
 "nbformat_minor": 4
}
