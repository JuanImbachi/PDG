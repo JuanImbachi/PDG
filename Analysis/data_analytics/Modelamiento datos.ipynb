{
 "cells": [
  {
   "cell_type": "markdown",
   "metadata": {},
   "source": [
    "# Reporte analítica de datos - Proyecto de Grado II"
   ]
  },
  {
   "cell_type": "markdown",
   "metadata": {},
   "source": [
    "# Modelamiento de los datos"
   ]
  },
  {
   "cell_type": "code",
   "execution_count": 11,
   "metadata": {},
   "outputs": [],
   "source": [
    "import pandas as pd\n",
    "import numpy as np\n",
    "from matplotlib import pyplot\n",
    "from statsmodels.tsa.ar_model import AutoReg\n",
    "from sklearn.metrics import mean_squared_error\n",
    "import datetime as datetime"
   ]
  },
  {
   "cell_type": "code",
   "execution_count": null,
   "metadata": {
    "scrolled": false
   },
   "outputs": [],
   "source": [
    "data = pd.read_csv('../dengue_data/Data.csv')\n",
    "df = pd.DataFrame(data)\n",
    "df[\"Date\"] = pd.to_datetime(df['Date'])\n",
    "df['Age'] = df['Age'].astype(float)\n",
    "df.set_index('Id', inplace=True)\n",
    "df.head(10)"
   ]
  },
  {
   "cell_type": "code",
   "execution_count": null,
   "metadata": {},
   "outputs": [],
   "source": [
    "def assign_zeros(nb_df) :\n",
    "    day_delta = datetime.timedelta(days=1)\n",
    "    start_date = datetime.date(2010, 1, 1)\n",
    "    end_date = datetime.date(2020, 1, 1)\n",
    "\n",
    "    list = []\n",
    "\n",
    "    for i in range((end_date - start_date).days):\n",
    "        date = start_date + i*day_delta\n",
    "        try: \n",
    "            list.append(nb_df.at[date,'Cases'])\n",
    "        except:  \n",
    "            list.append(0)\n",
    "            \n",
    "    final_model = pd.DataFrame(columns=('Date', 'Cases'))\n",
    "\n",
    "    for i in range((end_date - start_date).days):\n",
    "        date = start_date + i*day_delta\n",
    "        final_model.loc[len(final_model)]=[date, list[i]]\n",
    "        \n",
    "    return final_model"
   ]
  },
  {
   "cell_type": "markdown",
   "metadata": {},
   "source": [
    "### Técnica de modelado: Autoregresión (AR)"
   ]
  },
  {
   "cell_type": "code",
   "execution_count": 54,
   "metadata": {},
   "outputs": [
    {
     "name": "stdout",
     "output_type": "stream",
     "text": [
      "10\n",
      "0.3\n"
     ]
    }
   ],
   "source": [
    "test = [0, 0, 0, 4, 1, 0, 0, 0, 1, 1]\n",
    "pred = [0, 1, 1, 4, 1, 0, 0, 0, 1, 0]\n",
    "\n",
    "print(accuracy(test, pred))"
   ]
  },
  {
   "cell_type": "code",
   "execution_count": 53,
   "metadata": {},
   "outputs": [],
   "source": [
    "def accuracy(test, predictions) :\n",
    "    accuracy = 0\n",
    "    for i in range(0, len(predictions)) :\n",
    "        x = test[i]\n",
    "        y = predictions[i]\n",
    "        if(x != 0) :\n",
    "            if(x == y) :\n",
    "                accuracy += 1\n",
    "    return round(accuracy/aux, 3)"
   ]
  },
  {
   "cell_type": "code",
   "execution_count": null,
   "metadata": {},
   "outputs": [],
   "source": [
    "def AR(series, nb_name, max_prediciton_size, optime_lags, flag, plot) :\n",
    "    \n",
    "    if(flag):\n",
    "        fecha_1 = datetime.date(2016, 12, 31)\n",
    "        fecha_2 = datetime.date(2017, 1, 1)\n",
    "    else:\n",
    "        fecha_1 = datetime.date(2015, 12, 31)\n",
    "        fecha_2 = datetime.date(2016, 1, 1)\n",
    "\n",
    "    df_train = series.loc[: fecha_1]\n",
    "    df_test = series.loc[fecha_2: ]\n",
    "\n",
    "    y1 = df_train.Cases.to_numpy()\n",
    "    y2 = df_test.Cases.to_numpy()\n",
    "\n",
    "    # Entrenamiento del modelo\n",
    "    train, test = y1, y2\n",
    "\n",
    "    # train autoregression\n",
    "    window = optime_lags\n",
    "    model = AutoReg(train, lags=optime_lags)\n",
    "    model_fit = model.fit()\n",
    "    coef = model_fit.params\n",
    "    \n",
    "    # walk forward over time steps in test\n",
    "    history = train[len(train)-window:]\n",
    "    history = [history[i] for i in range(len(history))]\n",
    "    predictions = list()\n",
    "    for t in range(len(test)):\n",
    "        length = len(history)\n",
    "        lag = [history[i] for i in range(length-window,length)]\n",
    "        yhat = coef[0]\n",
    "        for d in range(window):\n",
    "            yhat += coef[d+1] * lag[window-d-1]\n",
    "        obs = test[t]\n",
    "        predictions.append(abs(np.round(float(yhat))))\n",
    "        history.append(obs)\n",
    "    test = test[-max_prediciton_size:]\n",
    "    predictions = predictions[0:max_prediciton_size]\n",
    "    rmse = np.sqrt(mean_squared_error(test, predictions))\n",
    "    real_cases = sum(i for i in test if i != 0) \n",
    "    number_of_predictions = sum(1 for i in predictions if i != 0) \n",
    "    accuracy = accuracy(test, predictions)\n",
    "    \n",
    "    if(plot) :\n",
    "        print('Test RMSE: %.3f' % rmse, '- Accuracy: ', accuracy, '- Total predictions:', number_of_predictions,\n",
    "          '- Real cases:',real_cases, '- LAGS:', optime_lags, '- Days to predict:', max_prediciton_size)\n",
    "        pyplot.figure(figsize=(25,5))\n",
    "        pyplot.plot(test)\n",
    "        pyplot.plot(predictions, color='red')\n",
    "        pyplot.title(nb_name)  \n",
    "        pyplot.ylabel(\"Número de casos\") \n",
    "        pyplot.xlabel(\"Días a predecir\")\n",
    "        pyplot.show()\n",
    "    \n",
    "    return real_cases, number_of_predictions, rmse, accuracy\n",
    "\n"
   ]
  },
  {
   "cell_type": "code",
   "execution_count": null,
   "metadata": {},
   "outputs": [],
   "source": [
    "def evaluate_model(neighborhoods_df, city) :\n",
    "    flag = False\n",
    "    array_lags = []\n",
    "    array_days_to_predict = []\n",
    "    array_rmse = []\n",
    "    array_accuracy = []\n",
    "    array_real_cases = []\n",
    "    array_number_of_predictions = []\n",
    "    array_neighborhoods = []\n",
    "    array_cities = []\n",
    "    values_for_lags = np.arange(600, 1100, 50)\n",
    "    values_for_days = np.arange(100, 1100, 50)\n",
    "    for neighborhood_name in neighborhoods_df.index :\n",
    "        if city == 'Buga' :\n",
    "            flag = True\n",
    "            nb_df = dfBuga[dfBuga.Neighborhood == neighborhood_name]\n",
    "        elif city == 'Giron' :\n",
    "            nb_df = dfGiron[dfGiron.Neighborhood == neighborhood_name]\n",
    "        else :\n",
    "            nb_df = dfYopal[dfYopal.Neighborhood == neighborhood_name]\n",
    "        nb_df = pd.DataFrame(nb_df['Date'].value_counts().sort_index())\n",
    "        nb_df.columns = ['Cases']\n",
    "        nb_df.index.name = 'Date'\n",
    "        df_zeros = assign_zeros(nb_df)\n",
    "        df_zeros.set_index('Date',inplace=True) \n",
    "\n",
    "        for lags in values_for_lags :\n",
    "            for days_to_predict in values_for_days :\n",
    "                real_cases, number_of_predictions, rmse, accuracy = AR(df_zeros, neighborhood_name, days_to_predict, lags, flag, False)\n",
    "                array_lags.append(lags)\n",
    "                array_days_to_predict.append(days_to_predict)\n",
    "                array_rmse.append(rmse)\n",
    "                array_real_cases.append(real_cases)\n",
    "                array_number_of_predictions.append(number_of_predictions)\n",
    "                array_neighborhoods.append(neighborhood_name)\n",
    "                array_cities.append(city)\n",
    "                array_accuracy.append(accuracy)\n",
    "   \n",
    "    data = {'City': array_cities, 'Neighborhood': array_neighborhoods,\n",
    "            'Real Cases': array_real_cases, 'Number of predictions': array_number_of_predictions,\n",
    "            'Lags': array_lags, 'Days to predict': array_days_to_predict, 'RMSE': array_rmse, 'Accuracy': array_accuracy}\n",
    "    \n",
    "    df_data = pd.DataFrame(data=data)\n",
    "    return df_data"
   ]
  },
  {
   "cell_type": "markdown",
   "metadata": {},
   "source": [
    "## ENTRENAMIENTO"
   ]
  },
  {
   "cell_type": "code",
   "execution_count": 8,
   "metadata": {},
   "outputs": [
    {
     "name": "stdout",
     "output_type": "stream",
     "text": [
      "1\n",
      "1\n",
      "3\n",
      "4\n",
      "0\n",
      "1\n",
      "0\n",
      "1\n",
      "accuracy:  0.6\n"
     ]
    }
   ],
   "source": [
    "test = [1, 1, 4, 4, 0, 0, 4, 0]\n",
    "predictions = [1, 1, 3, 4, 0, 1, 0, 1]\n",
    "print('accuracy: ',accuracy(test, predictions))"
   ]
  },
  {
   "cell_type": "markdown",
   "metadata": {},
   "source": [
    "### BUGA"
   ]
  },
  {
   "cell_type": "code",
   "execution_count": null,
   "metadata": {},
   "outputs": [],
   "source": [
    "dfBuga = df[df.City == 'Buga']"
   ]
  },
  {
   "cell_type": "code",
   "execution_count": null,
   "metadata": {
    "scrolled": false
   },
   "outputs": [],
   "source": [
    "neighborhoods = dfBuga['Neighborhood'].value_counts()\n",
    "neighborhoods = neighborhoods.to_frame(name='Cases')\n",
    "neighborhoods = neighborhoods[neighborhoods.Cases >= 100]"
   ]
  },
  {
   "cell_type": "code",
   "execution_count": null,
   "metadata": {
    "scrolled": true
   },
   "outputs": [],
   "source": [
    "evaluate_model(neighborhoods, 'Buga').to_csv('buga_models.csv', index=False)"
   ]
  },
  {
   "cell_type": "markdown",
   "metadata": {},
   "source": [
    "### GIRÓN"
   ]
  },
  {
   "cell_type": "code",
   "execution_count": null,
   "metadata": {},
   "outputs": [],
   "source": [
    "dfGiron = df[df.City == 'Girón']"
   ]
  },
  {
   "cell_type": "code",
   "execution_count": null,
   "metadata": {
    "scrolled": true
   },
   "outputs": [],
   "source": [
    "neighborhoods = dfGiron['Neighborhood'].value_counts()\n",
    "neighborhoods = neighborhoods.to_frame(name='Cases')\n",
    "neighborhoods = neighborhoods[neighborhoods.Cases >= 204]"
   ]
  },
  {
   "cell_type": "code",
   "execution_count": null,
   "metadata": {},
   "outputs": [],
   "source": [
    "evaluate_model(neighborhoods, 'Giron').to_csv('giron_models.csv', index=False)"
   ]
  },
  {
   "cell_type": "markdown",
   "metadata": {},
   "source": [
    "### YOPAL"
   ]
  },
  {
   "cell_type": "code",
   "execution_count": null,
   "metadata": {},
   "outputs": [],
   "source": [
    "dfYopal = df[df.City == 'Yopal']"
   ]
  },
  {
   "cell_type": "code",
   "execution_count": null,
   "metadata": {
    "scrolled": false
   },
   "outputs": [],
   "source": [
    "neighborhoods = dfYopal['Neighborhood'].value_counts()\n",
    "neighborhoods = neighborhoods.to_frame(name='Cases')\n",
    "neighborhoods = neighborhoods[neighborhoods.Cases >= 204]"
   ]
  },
  {
   "cell_type": "code",
   "execution_count": null,
   "metadata": {},
   "outputs": [],
   "source": [
    "evaluate_model(neighborhoods, 'Yopal').to_csv('yopal_models.csv', index=False)"
   ]
  },
  {
   "cell_type": "markdown",
   "metadata": {},
   "source": [
    "## SELECCIÓN DEL MEJOR MODELO"
   ]
  },
  {
   "cell_type": "markdown",
   "metadata": {},
   "source": [
    "### BUGA"
   ]
  },
  {
   "cell_type": "code",
   "execution_count": null,
   "metadata": {},
   "outputs": [],
   "source": [
    "buga_models = pd.read_csv('models/buga_models.csv', index_col= 0)\n",
    "df_buga_models = pd.DataFrame(buga_models)"
   ]
  },
  {
   "cell_type": "code",
   "execution_count": null,
   "metadata": {},
   "outputs": [],
   "source": [
    "first_four_neighborhoods = ['FUENMAYOR', 'SANTA BARBARA', 'BALBOA', 'LA HONDA']\n",
    "df_buga_models = df_buga_models[df_buga_models.Neighborhood.isin(first_four_neighborhoods)]\n",
    "df_buga_models = df_buga_models[df_buga_models.RMSE <= 0.20]"
   ]
  },
  {
   "cell_type": "code",
   "execution_count": null,
   "metadata": {
    "scrolled": true
   },
   "outputs": [],
   "source": [
    "df_buga_models.sort_values(by=['Lags', 'Days to predict', 'RMSE'])"
   ]
  },
  {
   "cell_type": "markdown",
   "metadata": {},
   "source": [
    "El mejor modelo para Buga es Lags=750, Days to predict=850"
   ]
  },
  {
   "cell_type": "markdown",
   "metadata": {},
   "source": [
    "#### BARRIO FUENMAYOR"
   ]
  },
  {
   "cell_type": "code",
   "execution_count": null,
   "metadata": {},
   "outputs": [],
   "source": [
    "df_fuenmayor = dfBuga[dfBuga.Neighborhood == \"FUENMAYOR\"]\n",
    "df_fuenmayor = pd.DataFrame(df_fuenmayor['Date'].value_counts().sort_index())\n",
    "df_fuenmayor.columns = ['Cases']\n",
    "df_fuenmayor.index.name = 'Date'\n",
    "df_fuenmayor = assign_zeros(df_fuenmayor)\n",
    "df_fuenmayor.set_index('Date',inplace=True) "
   ]
  },
  {
   "cell_type": "code",
   "execution_count": null,
   "metadata": {
    "scrolled": true
   },
   "outputs": [],
   "source": [
    "AR(df_fuenmayor, \"FUENMAYOR\", 850, 750, True)"
   ]
  },
  {
   "cell_type": "markdown",
   "metadata": {},
   "source": [
    "#### BARRIO SANTA BÁRBARA"
   ]
  },
  {
   "cell_type": "code",
   "execution_count": null,
   "metadata": {},
   "outputs": [],
   "source": [
    "df_santabarbara = dfBuga[dfBuga.Neighborhood == \"SANTA BARBARA\"]\n",
    "df_santabarbara = pd.DataFrame(df_santabarbara['Date'].value_counts().sort_index())\n",
    "df_santabarbara.columns = ['Cases']\n",
    "df_santabarbara.index.name = 'Date'\n",
    "df_santabarbara = assign_zeros(df_santabarbara)\n",
    "df_santabarbara.set_index('Date',inplace=True) "
   ]
  },
  {
   "cell_type": "code",
   "execution_count": null,
   "metadata": {},
   "outputs": [],
   "source": [
    "AR(df_santabarbara, \"SANTA BARBARA\", 850, 750, True, True)"
   ]
  },
  {
   "cell_type": "markdown",
   "metadata": {},
   "source": [
    "#### BARRIO LA HONDA"
   ]
  },
  {
   "cell_type": "code",
   "execution_count": null,
   "metadata": {},
   "outputs": [],
   "source": [
    "df_lahonda = dfBuga[dfBuga.Neighborhood == \"LA HONDA\"]\n",
    "df_lahonda = pd.DataFrame(df_lahonda['Date'].value_counts().sort_index())\n",
    "df_lahonda.columns = ['Cases']\n",
    "df_lahonda.index.name = 'Date'\n",
    "df_lahonda = assign_zeros(df_lahonda)\n",
    "df_lahonda.set_index('Date',inplace=True) "
   ]
  },
  {
   "cell_type": "code",
   "execution_count": null,
   "metadata": {},
   "outputs": [],
   "source": [
    "AR(df_lahonda, \"LA HONDA\", 850, 750, True, True)"
   ]
  },
  {
   "cell_type": "markdown",
   "metadata": {},
   "source": [
    "#### BARRIO BALBOA"
   ]
  },
  {
   "cell_type": "code",
   "execution_count": null,
   "metadata": {},
   "outputs": [],
   "source": [
    "df_balboa = dfBuga[dfBuga.Neighborhood == \"BALBOA\"]\n",
    "df_balboa = pd.DataFrame(df_balboa['Date'].value_counts().sort_index())\n",
    "df_balboa.columns = ['Cases']\n",
    "df_balboa.index.name = 'Date'\n",
    "df_balboa = assign_zeros(df_balboa)\n",
    "df_balboa.set_index('Date',inplace=True) "
   ]
  },
  {
   "cell_type": "code",
   "execution_count": null,
   "metadata": {},
   "outputs": [],
   "source": [
    "AR(df_balboa, \"BALBOA\", 850, 750, True, True)"
   ]
  }
 ],
 "metadata": {
  "kernelspec": {
   "display_name": "Python 3",
   "language": "python",
   "name": "python3"
  },
  "language_info": {
   "codemirror_mode": {
    "name": "ipython",
    "version": 3
   },
   "file_extension": ".py",
   "mimetype": "text/x-python",
   "name": "python",
   "nbconvert_exporter": "python",
   "pygments_lexer": "ipython3",
   "version": "3.8.3"
  }
 },
 "nbformat": 4,
 "nbformat_minor": 4
}
