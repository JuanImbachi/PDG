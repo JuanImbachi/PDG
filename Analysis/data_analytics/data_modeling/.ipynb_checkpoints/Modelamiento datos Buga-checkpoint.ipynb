{
 "cells": [
  {
   "cell_type": "markdown",
   "metadata": {},
   "source": [
    "# Reporte analítica de datos - Proyecto de Grado II"
   ]
  },
  {
   "cell_type": "markdown",
   "metadata": {},
   "source": [
    "## Modelamiento de los datos para el municipio de BUGA"
   ]
  },
  {
   "cell_type": "code",
   "execution_count": null,
   "metadata": {},
   "outputs": [],
   "source": [
    "import pandas as pd\n",
    "import matplotlib.pyplot as plt\n",
    "import seaborn as sns\n",
    "import numpy as np\n",
    "import statsmodels.api as sm\n",
    "from statsmodels.tsa.stattools import adfuller\n",
    "from pandas.plotting import autocorrelation_plot\n",
    "from matplotlib import pyplot\n",
    "from pandas import DataFrame\n",
    "from pandas import concat\n",
    "from pandas.plotting import lag_plot\n",
    "from statsmodels.tsa.ar_model import AutoReg\n",
    "from statsmodels.graphics.tsaplots import plot_pacf\n",
    "from sklearn.linear_model import LinearRegression\n",
    "from sklearn.metrics import mean_squared_error\n",
    "from statsmodels.tsa.arima_model import ARIMA\n",
    "import datetime as datetime"
   ]
  },
  {
   "cell_type": "code",
   "execution_count": null,
   "metadata": {
    "scrolled": true
   },
   "outputs": [],
   "source": [
    "buga = pd.read_csv('../../dengue_data/Buga.csv')\n",
    "df = pd.DataFrame(buga)\n",
    "df[\"FecNot\"]=pd.to_datetime(df['FecNot'])"
   ]
  },
  {
   "cell_type": "code",
   "execution_count": null,
   "metadata": {},
   "outputs": [],
   "source": [
    "df2 = df[df.Ano.isin([2013, 2016])]\n",
    "data_model = pd.DataFrame(df2['FecNot'].value_counts().sort_index())\n",
    "data_model.columns = ['Casos']\n",
    "data_model.index.name = 'Fecha'"
   ]
  },
  {
   "cell_type": "code",
   "execution_count": null,
   "metadata": {
    "scrolled": false
   },
   "outputs": [],
   "source": [
    "df2"
   ]
  },
  {
   "cell_type": "code",
   "execution_count": null,
   "metadata": {},
   "outputs": [],
   "source": [
    "def assign_zeros(nb_df) :\n",
    "    day_delta = datetime.timedelta(days=1)\n",
    "    start_date = datetime.date(2013, 1, 1)\n",
    "    end_date = datetime.date(2017, 1, 1)\n",
    "\n",
    "    list = []\n",
    "\n",
    "    for i in range((end_date - start_date).days):\n",
    "        date = start_date + i*day_delta\n",
    "        try: \n",
    "            list.append(nb_df.at[date,'Casos'])\n",
    "        except:  \n",
    "            list.append(0)\n",
    "            \n",
    "    final_model = pd.DataFrame(columns=('Fecha', 'Casos'))\n",
    "\n",
    "    for i in range((end_date - start_date).days):\n",
    "        date = start_date + i*day_delta\n",
    "        final_model.loc[len(final_model)]=[date, list[i]]\n",
    "        \n",
    "    return final_model"
   ]
  },
  {
   "cell_type": "code",
   "execution_count": null,
   "metadata": {
    "scrolled": true
   },
   "outputs": [],
   "source": [
    "def\n",
    "\n",
    "neighborhoods_df = df2['Barrio'].value_counts().sort_index()\n",
    "\n",
    "for neighborhood_name in neighborhoods_df.index :\n",
    "    nb_df = df2[df2.Barrio == neighborhood_name]\n",
    "    h = pd.DataFrame(nb_df['FecNot'].value_counts().sort_index())\n",
    "    h.columns = ['Casos']\n",
    "    h.index.name = 'Fecha'\n",
    "    df_zeros = assign_zeros(h)\n",
    "    df_zeros.set_index('Fecha',inplace=True)"
   ]
  },
  {
   "cell_type": "markdown",
   "metadata": {},
   "source": [
    "## MODELAMIENTO"
   ]
  },
  {
   "cell_type": "markdown",
   "metadata": {},
   "source": [
    "### Predicciones de modelo AR fijo"
   ]
  },
  {
   "cell_type": "code",
   "execution_count": null,
   "metadata": {
    "scrolled": false
   },
   "outputs": [],
   "source": [
    "# split dataset\n",
    "X = data.values\n",
    "train, test = X[1:len(X)-30], X[len(X)-30:]\n",
    "# train autoregressionc\n",
    "model = AutoReg(train, lags=150)\n",
    "model_fit = model.fit()\n",
    "\n",
    "# make predictions\n",
    "predictions = model_fit.predict(start=len(train), end=len(train)+len(test)-1, dynamic=False)\n",
    "\n",
    "rmse = sqrt(mean_squared_error(test, predictions))\n",
    "print('Test RMSE: %.3f' % rmse)\n",
    "# plot results\n",
    "pyplot.plot(test)\n",
    "pyplot.plot(predictions, color='red')\n",
    "pyplot.show()"
   ]
  },
  {
   "cell_type": "markdown",
   "metadata": {},
   "source": [
    "### Predicciones de modelo AR móvil"
   ]
  },
  {
   "cell_type": "code",
   "execution_count": null,
   "metadata": {
    "scrolled": false
   },
   "outputs": [],
   "source": [
    "# split dataset\n",
    "X = data.values\n",
    "train, test = X[1:len(X)-100], X[len(X)-100:]\n",
    "# train autoregression\n",
    "window = 150\n",
    "model = AutoReg(train, lags=150)\n",
    "model_fit = model.fit()\n",
    "coef = model_fit.params\n",
    "# walk forward over time steps in test\n",
    "history = train[len(train)-window:]\n",
    "history = [history[i] for i in range(len(history))]\n",
    "predictions = list()\n",
    "for t in range(len(test)):\n",
    "    length = len(history)\n",
    "    lag = [history[i] for i in range(length-window,length)]\n",
    "    yhat = coef[0]\n",
    "    for d in range(window):\n",
    "        yhat += coef[d+1] * lag[window-d-1]\n",
    "    obs = test[t]\n",
    "    predictions.append(np.round(yhat))\n",
    "    history.append(obs)\n",
    "rmse = sqrt(mean_squared_error(test, predictions))\n",
    "print('Test RMSE: %.3f' % rmse)\n",
    "# plot\n",
    "pyplot.figure(figsize=(25,5))\n",
    "pyplot.plot(test)\n",
    "pyplot.plot(predictions, color='red')\n",
    "pyplot.show()"
   ]
  }
 ],
 "metadata": {
  "kernelspec": {
   "display_name": "Python 3",
   "language": "python",
   "name": "python3"
  },
  "language_info": {
   "codemirror_mode": {
    "name": "ipython",
    "version": 3
   },
   "file_extension": ".py",
   "mimetype": "text/x-python",
   "name": "python",
   "nbconvert_exporter": "python",
   "pygments_lexer": "ipython3",
   "version": "3.8.3"
  }
 },
 "nbformat": 4,
 "nbformat_minor": 4
}
