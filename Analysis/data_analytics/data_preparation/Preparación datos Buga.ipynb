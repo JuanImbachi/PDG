{
 "cells": [
  {
   "cell_type": "markdown",
   "metadata": {},
   "source": [
    "# Reporte analítica de datos - Proyecto de Grado II"
   ]
  },
  {
   "cell_type": "markdown",
   "metadata": {},
   "source": [
    "## Preparación de los datos para el municipio de BUGA"
   ]
  },
  {
   "cell_type": "code",
   "execution_count": null,
   "metadata": {},
   "outputs": [],
   "source": [
    "import pandas as pd\n",
    "import matplotlib.pyplot as plt\n",
    "import seaborn as sns\n",
    "import numpy as np\n",
    "import statsmodels.api as sm\n",
    "from statsmodels.tsa.stattools import adfuller\n",
    "from pandas.plotting import autocorrelation_plot\n",
    "from matplotlib import pyplot\n",
    "from pandas import DataFrame\n",
    "from pandas import concat\n",
    "from pandas.plotting import lag_plot\n",
    "from statsmodels.tsa.ar_model import AutoReg\n",
    "from statsmodels.graphics.tsaplots import plot_pacf\n",
    "from sklearn.linear_model import LinearRegression\n",
    "from sklearn.metrics import mean_squared_error\n",
    "from statsmodels.tsa.arima_model import ARIMA\n",
    "import datetime as datetime"
   ]
  },
  {
   "cell_type": "code",
   "execution_count": null,
   "metadata": {
    "scrolled": true
   },
   "outputs": [],
   "source": [
    "buga = pd.read_csv('../../dengue_data/Buga.csv')\n",
    "df = pd.DataFrame(buga)\n",
    "df[\"FecNot\"]=pd.to_datetime(df['FecNot'])"
   ]
  },
  {
   "cell_type": "markdown",
   "metadata": {},
   "source": [
    "## Pruebas de hipóstesis para determinar si las series de tiempo son estacionarias | DICKEY-FULLER TEST\n",
    "\n",
    "**Hipótesis nula:** La serie de tiempo no es estacionaria\n",
    "\n",
    "**Hipótesis del investigador:** La serie de tiempo es estacionaria\n",
    "\n",
    "*Si el estadístico ADF < Valor crítico entonces rechazo la hipótesis nula*  \n",
    "*Si el estadístico ADF > Valor crítico entonces acepto la hipótesis nula*"
   ]
  },
  {
   "cell_type": "markdown",
   "metadata": {},
   "source": [
    "**Se trabajarán las series de tiempo individuales por barrios entre los años 2013 y 2016**"
   ]
  },
  {
   "cell_type": "code",
   "execution_count": null,
   "metadata": {},
   "outputs": [],
   "source": [
    "df2 = df[df.Ano.isin([2013, 2016])]\n",
    "data_model = pd.DataFrame(df2['FecNot'].value_counts().sort_index())\n",
    "data_model.columns = ['Casos']\n",
    "data_model.index.name = 'Fecha'"
   ]
  },
  {
   "cell_type": "code",
   "execution_count": null,
   "metadata": {
    "scrolled": false
   },
   "outputs": [],
   "source": [
    "df2"
   ]
  },
  {
   "cell_type": "code",
   "execution_count": null,
   "metadata": {},
   "outputs": [],
   "source": [
    "def stationarity_analysis_nb(nb_df, name):\n",
    "    results = adfuller(nb_df)\n",
    "    print('Estadístico ADF: %f' % results[0])\n",
    "    print('p-value: %f' % results[1])\n",
    "    print('Valor crítico:')\n",
    "    for key,value in results[4].items():\n",
    "        print('\\t%s: %.3f'% (key,value))\n",
    "\n",
    "    if results[0] < results[4][\"5%\"] :\n",
    "        print(\"Rechazo Ho: La serie de tiempo es estacionaria\")\n",
    "        nb_df.plot(kind='line', figsize=(30,5))\n",
    "        plt.title(name)  \n",
    "        plt.ylabel(\"Número de casos\")    \n",
    "    else :\n",
    "        print(\"Acepta Ho: La serie de tiempo no es estacionaria\\n\\nDebido a que la serie de tiempo no es estacionaria se procede a transformarla:\\n\")\n",
    "        nb_df = nb_df.diff().dropna()\n",
    "        results = adfuller(nb_df)\n",
    "        print('Estadístico ADF: %f' % results[0])\n",
    "        print('p-value: %f' % results[1])\n",
    "        print('Valor crítico:')\n",
    "        for key,value in results[4].items():\n",
    "            print('\\t%s: %.3f'% (key,value))\n",
    "\n",
    "        if results[0] < results[4][\"5%\"] :\n",
    "            print(\"Rechazo Ho: La serie de tiempo es estacionaria\")\n",
    "        else :\n",
    "            print(\"Acepta Ho: La serie de tiempo no es estacionaria\")\n",
    "\n",
    "        nb_df.plot(kind='bar')"
   ]
  },
  {
   "cell_type": "code",
   "execution_count": null,
   "metadata": {},
   "outputs": [],
   "source": [
    "def assign_zeros(nb_df) :\n",
    "    day_delta = datetime.timedelta(days=1)\n",
    "    start_date = datetime.date(2013, 1, 1)\n",
    "    end_date = datetime.date(2017, 1, 1)\n",
    "\n",
    "    list = []\n",
    "\n",
    "    for i in range((end_date - start_date).days):\n",
    "        date = start_date + i*day_delta\n",
    "        try: \n",
    "            list.append(nb_df.at[date,'Casos'])\n",
    "        except:  \n",
    "            list.append(0)\n",
    "            \n",
    "    final_model = pd.DataFrame(columns=('Fecha', 'Casos'))\n",
    "\n",
    "    for i in range((end_date - start_date).days):\n",
    "        date = start_date + i*day_delta\n",
    "        final_model.loc[len(final_model)]=[date, list[i]]\n",
    "        \n",
    "    return final_model"
   ]
  },
  {
   "cell_type": "markdown",
   "metadata": {},
   "source": [
    "Se completan los registros (1461) entre los años 2010 y 2018. El día donde no haya un acaso se agrega con un 0.\n",
    "\n",
    "**Después para cada barrio se hace su respectivo análisis de estacionariedad**"
   ]
  },
  {
   "cell_type": "code",
   "execution_count": null,
   "metadata": {
    "scrolled": true
   },
   "outputs": [],
   "source": [
    "neighborhoods_df = df2['Barrio'].value_counts().sort_index()\n",
    "\n",
    "for neighborhood_name in neighborhoods_df.index :\n",
    "    nb_df = df2[df2.Barrio == neighborhood_name]\n",
    "    h = pd.DataFrame(nb_df['FecNot'].value_counts().sort_index())\n",
    "    h.columns = ['Casos']\n",
    "    h.index.name = 'Fecha'\n",
    "    df_zeros = assign_zeros(h)\n",
    "    df_zeros.set_index('Fecha',inplace=True)\n",
    "    stationarity_analysis_nb(df_zeros,neighborhood_name)"
   ]
  },
  {
   "cell_type": "markdown",
   "metadata": {},
   "source": [
    "**TODAS LAS SERIES DE TIEMPO PARA CADA UNO DE LOS BARRIOS ENTRE 2013 Y 2016 SON ESTACIONARIAS**"
   ]
  },
  {
   "cell_type": "markdown",
   "metadata": {},
   "source": [
    "## PRUEBAS DE CORRELACIÓN"
   ]
  },
  {
   "cell_type": "code",
   "execution_count": null,
   "metadata": {
    "scrolled": true
   },
   "outputs": [],
   "source": [
    "lag_plot(data)\n",
    "plt.show()"
   ]
  },
  {
   "cell_type": "code",
   "execution_count": null,
   "metadata": {},
   "outputs": [],
   "source": [
    "values = DataFrame(data.values)\n",
    "dataframe = concat([values.shift(1), values], axis=1)\n",
    "dataframe.columns = ['t-1', 't+1']\n",
    "result = dataframe.corr()\n",
    "print(result)"
   ]
  },
  {
   "cell_type": "code",
   "execution_count": null,
   "metadata": {
    "scrolled": true
   },
   "outputs": [],
   "source": [
    "autocorrelation_plot(data)\n",
    "plt.show()"
   ]
  }
 ],
 "metadata": {
  "kernelspec": {
   "display_name": "Python 3",
   "language": "python",
   "name": "python3"
  },
  "language_info": {
   "codemirror_mode": {
    "name": "ipython",
    "version": 3
   },
   "file_extension": ".py",
   "mimetype": "text/x-python",
   "name": "python",
   "nbconvert_exporter": "python",
   "pygments_lexer": "ipython3",
   "version": "3.8.3"
  }
 },
 "nbformat": 4,
 "nbformat_minor": 4
}
